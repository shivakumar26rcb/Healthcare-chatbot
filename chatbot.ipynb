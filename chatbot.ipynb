{
  "nbformat": 4,
  "nbformat_minor": 0,
  "metadata": {
    "colab": {
      "name": "chatbot.ipynb",
      "provenance": [],
      "collapsed_sections": [],
      "authorship_tag": "ABX9TyPPMTi0Y99N7xvuHY7iAB9d",
      "include_colab_link": true
    },
    "kernelspec": {
      "name": "python3",
      "display_name": "Python 3"
    },
    "language_info": {
      "name": "python"
    }
  },
  "cells": [
    {
      "cell_type": "markdown",
      "metadata": {
        "id": "view-in-github",
        "colab_type": "text"
      },
      "source": [
        "<a href=\"https://colab.research.google.com/github/Sharath16113/Healthcare-chatbot-using-NLP/blob/master/chatbot.ipynb\" target=\"_parent\"><img src=\"https://colab.research.google.com/assets/colab-badge.svg\" alt=\"Open In Colab\"/></a>"
      ]
    },
    {
      "cell_type": "markdown",
      "source": [
        "Stopped Growth :-->\n",
        "pred_diseases:'Growth Disorder, Turner Syndrome', analgesics: 'Thyroid hormone pills, growth hormone injections', treatment scans:'Bone Age Xray, MRI scan', 'Meat, Seafood,Leafygreens,Diary,Spinach, Beef' -------> Enter your pincode to see available doctors near by you .\n",
        "\n",
        "Wheezing, Coughing and troubled breathing,chest pain -->pred_diseases: Asthma; analgesics: Metered dose inhalers, nebulizers; treatment scans:Asthma therapy; diet:Fruits and vegetables -------> Enter your pincode to see available doctors near by you .\n",
        "\n",
        "baby too small, weight<5.5 pounds-->pred_diseases: 'Learning disabilities', analgesics: 'iron supplements', treatment scans:'Temperature Control Incubator', diet:'iron supplements' -------> Enter your pincode to see available doctors near by you.\n",
        "\n",
        "Repetetive behaviour,prefers to be alone-->pred_diseases: 'Autism\\r\\n', analgesics: 'Ketamine, Midazolem', treatment scans:'Teach social skills and cognitive behaviour', diet: 'Only yelow or white foods such as rice, potatoes or pasta and strictly avoid diary' -------> Enter your pincode to see available doctors near by you.\n",
        "\n",
        "Self-destructiveness,sadness and being upset--> pred_diseases: 'Depression', analgesics: 'Prozac, Zoloft or Celexa', treatment scans:'Constantly praise him, teach skills, and give self-development talks', diet: 'Fish and whole grains'. -------> Enter your pincode to see available doctors near by you.\n",
        "\n",
        "Paleness, loss of energy, weightloss and easy bruising--pred_diseases: 'Cancer or Brain Tumor', analgesics: 'Morphine or Ibuprofen', treatment scans:'Chemotherapy or Stem cell transplant', diet: 'Cheese, Meat, Seafood, Diary and Eggs'. -------> Enter your pincode to see available doctors near by you.\n",
        "\n",
        "Fever,fever up to 102f, Tiredness or Loss of Appetitse--> pred_diseases:'Chickenpox', analgesics: 'Acetaminophen', treatment scans:'lukewarm bath and apply calamine lotion to itchy areas', diet: 'Raw fruits, Vegetables, Meat, Pastured eggs and avoid salty foods'. -------> Enter your pincode to see available doctors near by you.\n",
        "\n",
        "easy tiredness and overweight--> pred_diseases:'Obesity', analgesics: 'Not suggested to take analgesics for obesity', treatment scans:'building heathy eating ang drinking habits and physical activities like exercise', diet: 'Fruits and vegetables, and avoid skipping breakfast' -------> Enter your pincode to see available doctors near by you.\n",
        "\n",
        "Severe tooth ache--> pred_diseases:'Cavities\\r\\n', analgesics: 'Ibuprofen or Aspirin', treatment scans: 'Fluoride toothpaste', diet: 'juices and avoid sweets, chocolates and unhealthy snacks'. -------> Enter your pincode to see available doctors near by you.\n",
        "\n",
        "Often urinating, slow healing of bruises, weightloss--> pred_diseases: 'Diabetes', analgesics: 'Tylenol or Aspirin', treatment scans:'Insulin Treatment', diet: 'brown rice or cereals with two eggs daily' -------> Enter your pincode to see available doctors near by you.\n",
        "\n",
        "High body temperature, severe headache and tiredness--> pred_diseases: 'Fever', analgesics: 'Paracetemol or Aspirin', treatment scans:'Tylenol, Ibuprofen to treat stomach irritation', diet: 'fluid intake like gatorage, fruitjuices or milk' -------> Enter your pincode to see available doctors near by you.\n",
        "\n",
        "Depression, Eating Disorders--> pred_diseases: 'Drug or Smoke or Alcohol Addiction', analgesics: 'Baclofen, Gebapentin', treatment scans:'Visiting Rehabilitation Centers, Help teens choose good friends and learn to say NO', diet: 'Green leafy vegetables'. -------> Enter your pincode to see available doctors near by you.\n",
        "\n",
        "Swelling, irritation, breast or nipple pain--> pred_diseases: 'Breast Cancer', analgesics: 'Tamoxifen', treatment scans: 'heart-smart diet and indulge in physical activity and avoid smoking', diet: 'whole grains, beans, legumes'. -------> Enter your pincode to see available doctors near by you.\n",
        "\n",
        "Sudden Confusion, Dizziness, Loss of Banlance--> pred_diseases: 'Stroke', analgesics: 'Anti-platelet drugs like Plavix', treatment scans:'Clot-bursting therapy', diet: 'Fruits and Vegetables, and avoid salt'. -------> Enter your pincode to see available doctors near by you.\n",
        "\n",
        "Shortness of breath, or being inactive--> pred_diseases: 'COPD', analgesics: 'Tudorza or Brovana', treatment scans:'Inhalers and oral steroids', diet: 'Eggs, Cheese, Meat, fish, and Poultry' -------> Enter your pincode to see available doctors near by you.\n",
        "\n",
        "Forgetfulness or Confusion--> pred_diseases: 'Alzheimer's disease', analgesics: 'Aricept or Exelon', treatment scans:'MRI and CT scans', diet: 'berries, beans and whole grains'.\n",
        "\n",
        "Chest pain, confusion, cough or fatigue--> pred_diseases: 'Pneumonia or Influenza', analgesics: 'Levofloxacin', treatment scans:'Plenty of fluids and get lot of rest', diet:'Citrus fruits, Oily fish and Leafy greens' -------> Enter your pincode to see available doctors near by you.\n",
        "\n",
        "Often urinating, slow healing of bruises, weightloss--> pred_diseases: 'Diabetes', analgesics: 'Tylenol or Aspirin', treatment scans:'Insulin Treatment', diet:'Brown rice or cereals with two eggs daily'.\n",
        "\n",
        "reduced urine, swelling of legs or fatigue--> pred_diseases: 'Kidney Disease', analgesics: 'Naproxen or Ibuprofen', treatment scans:'Dialysis', diet:'Berries, bell peppers, onions and apples'.\n",
        "\n",
        "Fever, chills, rapid breathing and heart rate--> pred_diseases: 'Blood poisoning', analgesics: 'Ceftriaxone or Azithromycin', treatment scans:'Vasoconstriction to narrow blood vessels', diet:'Leafy greens like spinach'.\n",
        "\n",
        "Fragile bones--> pred_diseases: 'Brittle bone disease', analgesics: 'Biphosphonates, calcium and vitamin D supplements', treatment scans: 'VitaminD supplements and avoid smoking and alcohol', diet:'fruits and foods high on calcium'.\n",
        "\n",
        "Skin wrinkles and aging--> pred_diseases: 'No disease', analgesics: 'Anti-aging creams', treatment scans: 'Blepharoplasty surgery to get rid of aging', diet: 'Berries, Broccoli, Papaya, Spinach, Nuts and Avocado'.\n",
        "\n",
        "Blurry and loss of vision--> pred_diseases: 'Mascular Degeneration', analgesics: 'Lucentis or Macugen', treatment scans: 'Regular exercise and avoid smoking', diet:'Fish and vegetables'.\n",
        "\n",
        "Blood pressure reading 140 or higher--> pred_diseases: 'High blood pressure', analgesics: 'Thiazide diuretics', treatment scans:'Physical activity like exercise and avoid smoking and srinking', diet:'low-fat diary, whole grains and Fruits'.\n",
        "\n",
        "Trouble sleeping or sleep, mood swings, vaginal dryness--> pred_diseases: 'Menopause', analgesics: 'Isoflav capsules', treatment scans: 'Estrogen levels test', diet:'Fish, Fruits, Vegetables and Diary'.\n",
        "\n",
        "Cold, Allergies, Nasal problems--> pred_diseases: 'Sinusitis', analgesics: 'Acetaminophen or Nasal spray', treatment scans: 'Antibiotics like Aspirin and Nasal sprays', diet:'Salmon, Avocados, Cherries and Beans' -------> Enter your pincode to see available doctors near by you.\n",
        "\n",
        "Pain while urine and ejaculation--> pred_diseases: 'Prostate Cancer', analgesics: 'Bicalutamide or Casodex', treatment scans:'Radiation therapy or prostatectomy', diet: 'Veggies and fruits and low in meat'.\n",
        "\n",
        "Trembling body parts and loss of balance--> pred_diseases: 'Parkinson's disease', analgesics: 'Vesoret capsules', treatment scans: 'Cardibopa-levodopa', diet:'Fruits and vegetables'.\n",
        "\n",
        "Buildup of fluids in legs, ankles and legs, tiredness--> pred_diseases: 'Heart failure', analgesics: 'Carvedilol or Metoprolol', treatment scans: 'ACE inhibitors', diet: 'Plain rice, fish, egg, milk and yoghurt'.\n",
        "\n",
        "530011--> Name:DR. M.Satyarao, contactnumber:0891-2709239, location:\"malkapuram,beside postoffice\", timings: 6:30pm-9:30pm, Specialist:ENT.\n",
        "\n",
        "560014--> Name:DR. Manisha, contactnumber:7396680478, location:\"Bangalore\", timings: 6:30pm-9:30pm, Specialist : Physician.\n",
        "\n",
        "570014--> Name:DR. Aishwarya, contactnumber:9591049682, location:\"Mandya\", timings: 6:30pm-9:30pm, Specialist : Cardiologist.\n",
        "\n",
        "571601--> Name:DR. Navyashree, contactnumber:8018203108, location:\"Mysore\", timings: 6:30pm-9:30pm, Specialist : ENT.](https://github.com/Sharath16113/Healthcare-chatbot-using-NLP/blob/master/bot2%20%26%26%20serve.ipynb)"
      ],
      "metadata": {
        "id": "OavImNEno-n8"
      }
    },
    {
      "cell_type": "code",
      "source": [
        "from google.colab import files\n",
        "import io\n",
        "import pandas as pd\n",
        "\n",
        "data=files.upload()\n"
      ],
      "metadata": {
        "colab": {
          "resources": {
            "http://localhost:8080/nbextensions/google.colab/files.js": {
              "data": "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",
              "ok": true,
              "headers": [
                [
                  "content-type",
                  "application/javascript"
                ]
              ],
              "status": 200,
              "status_text": ""
            }
          },
          "base_uri": "https://localhost:8080/",
          "height": 109
        },
        "id": "b6oLm8qhwK_W",
        "outputId": "085162e7-8fe4-49ee-e009-a61c29e23512"
      },
      "execution_count": null,
      "outputs": [
        {
          "output_type": "display_data",
          "data": {
            "text/plain": [
              "<IPython.core.display.HTML object>"
            ],
            "text/html": [
              "\n",
              "     <input type=\"file\" id=\"files-35a739f8-c37b-46fc-ae0c-133b0cab38b6\" name=\"files[]\" multiple disabled\n",
              "        style=\"border:none\" />\n",
              "     <output id=\"result-35a739f8-c37b-46fc-ae0c-133b0cab38b6\">\n",
              "      Upload widget is only available when the cell has been executed in the\n",
              "      current browser session. Please rerun this cell to enable.\n",
              "      </output>\n",
              "      <script src=\"/nbextensions/google.colab/files.js\"></script> "
            ]
          },
          "metadata": {}
        },
        {
          "output_type": "stream",
          "name": "stdout",
          "text": [
            "Saving bot2.py to bot2.py\n",
            "Saving serve.py to serve.py\n"
          ]
        }
      ]
    },
    {
      "cell_type": "code",
      "execution_count": null,
      "metadata": {
        "colab": {
          "base_uri": "https://localhost:8080/"
        },
        "id": "pD5SvS47mWSo",
        "outputId": "db0f46f2-99a2-442d-ccec-52b2348fd1da"
      },
      "outputs": [
        {
          "output_type": "stream",
          "name": "stdout",
          "text": [
            "[nltk_data] Downloading package punkt to /root/nltk_data...\n",
            "[nltk_data]   Package punkt is already up-to-date!\n",
            "[nltk_data] Downloading package wordnet to /root/nltk_data...\n",
            "[nltk_data]   Package wordnet is already up-to-date!\n"
          ]
        }
      ],
      "source": [
        "import nltk\n",
        "import warnings\n",
        "warnings.filterwarnings(\"ignore\")\n",
        "# nltk.download() # for downloading packages\n",
        "#import tensorflow as tf\n",
        "import numpy as np\n",
        "import random\n",
        "import string # to process standard python strings\n",
        "\n",
        "\n",
        "f=open('symptom.txt','r',errors = 'ignore')\n",
        "m=open('pincodes.txt','r',errors = 'ignore')\n",
        "checkpoint = \"./chatbot_weights.ckpt\"\n",
        "#session = tf.InteractiveSession()\n",
        "#session.run(tf.global_variables_initializer())\n",
        "#saver = tf.train.Saver()\n",
        "#saver.restore(session, checkpoint)\n",
        "\n",
        "raw=f.read()\n",
        "rawone=m.read()\n",
        "raw=raw.lower()# converts to lowercase\n",
        "rawone=rawone.lower()# converts to lowercase\n",
        "nltk.download('punkt') # first-time use only\n",
        "nltk.download('wordnet') # first-time use only\n",
        "sent_tokens = nltk.sent_tokenize(raw)# converts to list of sentences \n",
        "word_tokens = nltk.word_tokenize(raw)# converts to list of words\n",
        "sent_tokensone = nltk.sent_tokenize(rawone)# converts to list of sentences \n",
        "word_tokensone = nltk.word_tokenize(rawone)# converts to list of words\n",
        "\n",
        "\n",
        "sent_tokens[:2]\n",
        "sent_tokensone[:2]\n",
        "\n",
        "word_tokens[:5]\n",
        "word_tokensone[:5]\n",
        "\n",
        "lemmer = nltk.stem.WordNetLemmatizer()\n",
        "def LemTokens(tokens):\n",
        "    return [lemmer.lemmatize(token) for token in tokens]\n",
        "remove_punct_dict = dict((ord(punct), None) for punct in string.punctuation)\n",
        "def LemNormalize(text):\n",
        "    return LemTokens(nltk.word_tokenize(text.lower().translate(remove_punct_dict)))\n",
        "\n",
        "Introduce_Ans = [\" \"]\n",
        "GREETING_INPUTS = (\"hello\", \"hi\",\"hiii\",\"hii\",\"hiiii\",\"hiiii\", \"greetings\", \"sup\", \"what's up\",\"hey\",)\n",
        "GREETING_RESPONSES = [\"hi,are you suffering from any health issues?(Y/N)\", \"hey,are you having any health issues?(Y/N)\", \"hii there,are you having any health issues?(Y/N)\", \"hi there,are you having any health issues?(Y/N)\", \"hello,are you having any health issues?(Y/N)\", \"I am glad! You are talking to me,are you having any health issues?(Y/N)\"]\n",
        "Basic_Q = (\"yes\",\"y\")\n",
        "Basic_Ans = \"okay,tell me about your symptoms\"\n",
        "Basic_Om = (\"no\",\"n\")\n",
        "Basic_AnsM = \"thank you, Have a nyc day!!\"\n",
        "fev=(\"iam suffering from fever\", \"i affected with fever\",\"i have fever\",\"fever\")\n",
        "feve_r=(\"which type of fever you have? and please mention your symptoms then we try to calculate your disease.\")\n",
        "\n",
        "\n",
        "# Checking for greetings\n",
        "def greeting(sentence):\n",
        "    \"\"\"If user's input is a greeting, return a greeting response\"\"\"\n",
        "    for word in sentence.split():\n",
        "        if word.lower() in GREETING_INPUTS:\n",
        "            return random.choice(GREETING_RESPONSES)\n",
        "\n",
        "# Checking for Basic_Q\n",
        "def basic(sentence):\n",
        "    for word in Basic_Q:\n",
        "        if sentence.lower() == word:\n",
        "            return Basic_Ans\n",
        "def fever(sentence):\n",
        "    for word in fev:\n",
        "        if sentence.lower() == word:\n",
        "            return feve_r\n",
        "\n",
        "# Checking for Basic_QM\n",
        "def basicM(sentence):\n",
        "    \"\"\"If user's input is a greeting, return a greeting response\"\"\"\n",
        "    for word in Basic_Om:\n",
        "        if sentence.lower() == word:\n",
        "            \n",
        "           \n",
        "            return Basic_AnsM\n",
        "# Checking for Introduce\n",
        "def IntroduceMe(sentence):\n",
        "    return random.choice(Introduce_Ans)\n",
        "\n",
        "\n",
        "from sklearn.feature_extraction.text import TfidfVectorizer\n",
        "from sklearn.metrics.pairwise import cosine_similarity\n",
        "\n",
        "\n",
        "# Generating response\n",
        "def response(user_response):\n",
        "    robo_response=''\n",
        "    sent_tokens.append(user_response)\n",
        "    TfidfVec = TfidfVectorizer(tokenizer=LemNormalize, stop_words='english')\n",
        "    tfidf = TfidfVec.fit_transform(sent_tokens)\n",
        "   \n",
        "    vals = cosine_similarity(tfidf[-1], tfidf)\n",
        "   \n",
        "    idx=vals.argsort()[0][-2]\n",
        "    flat = vals.flatten()\n",
        "    flat.sort()\n",
        "    req_tfidf = flat[-2]\n",
        "    if(req_tfidf==0):\n",
        "        robo_response=robo_response+\"I am sorry! I don't understand you\"\n",
        "        return robo_response\n",
        "    else:\n",
        "        robo_response = robo_response+sent_tokens[idx] \n",
        "        return robo_response\n",
        "      \n",
        "# Generating response \n",
        "\n",
        "# Generating response\n",
        "def responseone(user_response):\n",
        "    robo_response=''\n",
        "    sent_tokensone.append(user_response)\n",
        "    TfidfVec = TfidfVectorizer(tokenizer=LemNormalize, stop_words='english')\n",
        "    tfidf = TfidfVec.fit_transform(sent_tokensone)\n",
        "    vals = cosine_similarity(tfidf[-1], tfidf)\n",
        "    idx=vals.argsort()[0][-2]\n",
        "    flat = vals.flatten()\n",
        "    flat.sort()\n",
        "    req_tfidf = flat[-2]\n",
        "    if(req_tfidf==0):\n",
        "        robo_response=robo_response+\"I am sorry! I don't understand you\"\n",
        "        return robo_response\n",
        "    else:\n",
        "        robo_response = robo_response+sent_tokensone[idx]\n",
        "        return robo_response\n",
        "\n",
        "def chat(user_response):\n",
        "    user_response=user_response.lower()\n",
        "    keyword = \" module \"\n",
        "    keywordone = \" module\"\n",
        "    keywordsecond = \"module \"\n",
        "    \n",
        "    if(user_response!='bye'):\n",
        "        \n",
        "        if(user_response=='thanks' or user_response=='thank you' ):\n",
        "            flag=False\n",
        "            #print(\"ROBO: You are welcome..\")\n",
        "            return \"You are welcome..\"\n",
        "        elif(basicM(user_response)!=None):\n",
        "            return basicM(user_response)\n",
        "        else:\n",
        "            if(user_response.find(keyword) != -1 or user_response.find(keywordone) != -1 or user_response.find(keywordsecond) != -1):\n",
        "                #print(\"ROBO: \",end=\"\")\n",
        "                #print(responseone(user_response))\n",
        "                return responseone(user_response)\n",
        "                sent_tokensone.remove(user_response)\n",
        "            elif(greeting(user_response)!=None):\n",
        "                #print(\"ROBO: \"+greeting(user_response))\n",
        "                return greeting(user_response)\n",
        "            elif(user_response.find(\"your name\") != -1 or user_response.find(\" your name\") != -1 or user_response.find(\"your name \") != -1 or user_response.find(\" your name \") != -1):\n",
        "                return IntroduceMe(user_response)\n",
        "            elif(basic(user_response)!=None):\n",
        "                return basic(user_response)\n",
        "            elif(fever(user_response)!=None):\n",
        "                return fever(user_response)\n",
        "            else:\n",
        "                #print(\"ROBO: \",end=\"\")\n",
        "                #print(response(user_response))\n",
        "                return response(user_response)\n",
        "                sent_tokens.remove(user_response)\n",
        "                \n",
        "    else:\n",
        "        flag=False\n",
        "        #print(\"ROBO: Bye! take care..\")\n",
        "        return \"Bye! take care..\""
      ]
    },
    {
      "cell_type": "code",
      "source": [
        "from flask import Flask, render_template, request, jsonify, make_response\n",
        "from bot2 import chat\n",
        "app = Flask(__name__)\n",
        "\n",
        "@app.route('/', methods = ['GET', 'POST'])\n",
        "def indexpage():\n",
        "    if request.method == \"POST\":\n",
        "\n",
        "        print(request.form.get('name'))\n",
        "        return render_template(\"index2.html\")\n",
        "    return render_template(\"index2.html\")\n",
        "\n",
        "@app.route(\"/entry\", methods=['POST'])\n",
        "def entry():\n",
        "    req = request.get_json()\n",
        "    print(req)\n",
        "    res = make_response(jsonify({\"name\":\"{}.\".format(chat(req)),\"message\":\"OK\"}), 200)\n",
        "    return res\n",
        "\n",
        "\n",
        "if __name__ == \"__main__\":\n",
        "    app.run(debug=True)"
      ],
      "metadata": {
        "id": "uckCnEOcnbXF",
        "colab": {
          "base_uri": "https://localhost:8080/",
          "height": 304
        },
        "outputId": "239de73c-9d11-427a-9901-2e40e2a7c654"
      },
      "execution_count": null,
      "outputs": [
        {
          "output_type": "stream",
          "name": "stdout",
          "text": [
            "[nltk_data] Downloading package punkt to /root/nltk_data...\n",
            "[nltk_data]   Package punkt is already up-to-date!\n",
            "[nltk_data] Downloading package wordnet to /root/nltk_data...\n",
            "[nltk_data]   Package wordnet is already up-to-date!\n",
            " * Serving Flask app \"__main__\" (lazy loading)\n",
            " * Environment: production\n",
            "\u001b[31m   WARNING: This is a development server. Do not use it in a production deployment.\u001b[0m\n",
            "\u001b[2m   Use a production WSGI server instead.\u001b[0m\n",
            " * Debug mode: on\n"
          ]
        },
        {
          "output_type": "stream",
          "name": "stderr",
          "text": [
            " * Running on http://127.0.0.1:5000/ (Press CTRL+C to quit)\n",
            " * Restarting with stat\n"
          ]
        },
        {
          "output_type": "error",
          "ename": "SystemExit",
          "evalue": "ignored",
          "traceback": [
            "An exception has occurred, use %tb to see the full traceback.\n",
            "\u001b[0;31mSystemExit\u001b[0m\u001b[0;31m:\u001b[0m 1\n"
          ]
        }
      ]
    }
  ]
}