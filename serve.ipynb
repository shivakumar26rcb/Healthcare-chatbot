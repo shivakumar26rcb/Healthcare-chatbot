{
  "nbformat": 4,
  "nbformat_minor": 0,
  "metadata": {
    "colab": {
      "name": "Untitled4.ipynb",
      "provenance": [],
      "authorship_tag": "ABX9TyOrEk+sElMY4ms75fa6i64v",
      "include_colab_link": true
    },
    "kernelspec": {
      "name": "python3",
      "display_name": "Python 3"
    },
    "language_info": {
      "name": "python"
    }
  },
  "cells": [
    {
      "cell_type": "markdown",
      "metadata": {
        "id": "view-in-github",
        "colab_type": "text"
      },
      "source": [
        "<a href=\"https://colab.research.google.com/github/Sharath16113/Healthcare-chatbot-using-NLP/blob/master/serve.ipynb\" target=\"_parent\"><img src=\"https://colab.research.google.com/assets/colab-badge.svg\" alt=\"Open In Colab\"/></a>"
      ]
    },
    {
      "cell_type": "code",
      "execution_count": null,
      "metadata": {
        "id": "ZttMAlodm30p"
      },
      "outputs": [],
      "source": [
        "from flask import Flask, render_template, request, jsonify, make_response\n",
        "from bot2 import chat\n",
        "app = Flask(__name__)\n",
        "\n",
        "@app.route('/', methods = ['GET', 'POST'])\n",
        "def indexpage():\n",
        "    if request.method == \"POST\":\n",
        "\n",
        "        print(request.form.get('name'))\n",
        "        return render_template(\"index2.html\")\n",
        "    return render_template(\"index2.html\")\n",
        "\n",
        "@app.route(\"/entry\", methods=['POST'])\n",
        "def entry():\n",
        "    req = request.get_json()\n",
        "    print(req)\n",
        "    res = make_response(jsonify({\"name\":\"{}.\".format(chat(req)),\"message\":\"OK\"}), 200)\n",
        "    return res\n",
        "\n",
        "\n",
        "if __name__ == \"__main__\":\n",
        "    app.run(debug=True)"
      ]
    }
  ]
}